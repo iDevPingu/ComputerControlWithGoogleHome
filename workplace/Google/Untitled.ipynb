{
 "cells": [
  {
   "cell_type": "code",
   "execution_count": 2,
   "metadata": {},
   "outputs": [],
   "source": [
    "a = {'responseId': 'bddf13a3-02a3-4d21-b8ac-34ea95749b6b-415208ed', \n",
    "     'queryResult': {'queryText': '그림그릴래', 'parameters': {}, \n",
    "                     'allRequiredParamsPresent': True, \n",
    "                     'fulfillmentMessages': [{'text': {'text': ['']}}], \n",
    "                     'intent': {'name': 'projects/icksw-5d2f6/agent/intents/950875bb-8994-48b4-9baf-048fc02c62a4', 'displayName': 'Paint'}, 'intentDetectionConfidence': 1.0, 'languageCode': 'ko'}, 'originalDetectIntentRequest': {'payload': {}}, 'session': 'projects/icksw-5d2f6/agent/sessions/ab6e44d9-d0cf-8dc3-8ce0-9cd369519f47'}"
   ]
  },
  {
   "cell_type": "code",
   "execution_count": 5,
   "metadata": {},
   "outputs": [
    {
     "data": {
      "text/plain": [
       "'Paint'"
      ]
     },
     "execution_count": 5,
     "metadata": {},
     "output_type": "execute_result"
    }
   ],
   "source": [
    "a['queryResult']['intent']['displayName']"
   ]
  },
  {
   "cell_type": "code",
   "execution_count": null,
   "metadata": {},
   "outputs": [],
   "source": []
  }
 ],
 "metadata": {
  "kernelspec": {
   "display_name": "Python 3",
   "language": "python",
   "name": "python3"
  },
  "language_info": {
   "codemirror_mode": {
    "name": "ipython",
    "version": 3
   },
   "file_extension": ".py",
   "mimetype": "text/x-python",
   "name": "python",
   "nbconvert_exporter": "python",
   "pygments_lexer": "ipython3",
   "version": "3.7.4"
  }
 },
 "nbformat": 4,
 "nbformat_minor": 2
}
