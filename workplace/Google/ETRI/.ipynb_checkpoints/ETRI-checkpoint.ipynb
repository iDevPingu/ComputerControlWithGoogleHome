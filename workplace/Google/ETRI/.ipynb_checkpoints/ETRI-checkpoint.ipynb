{
 "cells": [
  {
   "cell_type": "code",
   "execution_count": 1,
   "metadata": {},
   "outputs": [],
   "source": [
    "import urllib3\n",
    "import json\n",
    "\n",
    "def 분석기(text):\n",
    "    openApiURL = \"http://aiopen.etri.re.kr:8000/WiseNLU\"\n",
    "    accessKey = \"3314db0e-ee18-4aff-bd16-e85e2a503569\"\n",
    "    analysisCode = \"dparse\"\n",
    "    text = text\n",
    "\n",
    "    requestJson = {\n",
    "        \"access_key\": accessKey,\n",
    "        \"argument\": {\n",
    "            \"text\": text,\n",
    "            \"analysis_code\": analysisCode\n",
    "        }\n",
    "    }\n",
    "\n",
    "    http = urllib3.PoolManager()\n",
    "    response = http.request(\n",
    "        \"POST\",\n",
    "        openApiURL,\n",
    "        headers={\"Content-Type\": \"application/json; charset=UTF-8\"},\n",
    "        body=json.dumps(requestJson)\n",
    "    )\n",
    "    return response\n",
    "# print(\"[responseCode] \" + str(response.status))\n",
    "# print(\"[responBody]\")\n",
    "# print(str(response.data,\"utf-8\"))"
   ]
  },
  {
   "cell_type": "code",
   "execution_count": 14,
   "metadata": {},
   "outputs": [],
   "source": [
    "a = 분석기(\"욕조 안에 있는 수세미 꺼내서 싱크대 안에 넣어\")\n"
   ]
  },
  {
   "cell_type": "code",
   "execution_count": 15,
   "metadata": {},
   "outputs": [],
   "source": [
    "a = a.data.decode('utf-8')\n",
    "b = json.loads(a)"
   ]
  },
  {
   "cell_type": "code",
   "execution_count": 16,
   "metadata": {},
   "outputs": [],
   "source": [
    "형태소 = b['return_object']['sentence'][0]['WSD']\n",
    "의존구문분석 = b['return_object']['sentence'][0]['dependency']"
   ]
  },
  {
   "cell_type": "code",
   "execution_count": 17,
   "metadata": {
    "scrolled": true
   },
   "outputs": [
    {
     "data": {
      "text/plain": [
       "[{'id': 0.0,\n",
       "  'text': '욕조',\n",
       "  'head': 1.0,\n",
       "  'label': 'NP',\n",
       "  'mod': [],\n",
       "  'weight': 0.683985},\n",
       " {'id': 1.0,\n",
       "  'text': '안에',\n",
       "  'head': 2.0,\n",
       "  'label': 'NP_AJT',\n",
       "  'mod': [0.0],\n",
       "  'weight': 0.66523},\n",
       " {'id': 2.0,\n",
       "  'text': '있는',\n",
       "  'head': 3.0,\n",
       "  'label': 'VP_MOD',\n",
       "  'mod': [1.0],\n",
       "  'weight': 0.385904},\n",
       " {'id': 3.0,\n",
       "  'text': '수세미',\n",
       "  'head': 4.0,\n",
       "  'label': 'NP_OBJ',\n",
       "  'mod': [2.0],\n",
       "  'weight': 0.487645},\n",
       " {'id': 4.0,\n",
       "  'text': '꺼내서',\n",
       "  'head': 7.0,\n",
       "  'label': 'VP',\n",
       "  'mod': [3.0],\n",
       "  'weight': 0.794818},\n",
       " {'id': 5.0,\n",
       "  'text': '싱크대',\n",
       "  'head': 6.0,\n",
       "  'label': 'NP',\n",
       "  'mod': [],\n",
       "  'weight': 0.559081},\n",
       " {'id': 6.0,\n",
       "  'text': '안에',\n",
       "  'head': 7.0,\n",
       "  'label': 'NP_AJT',\n",
       "  'mod': [5.0],\n",
       "  'weight': 0.750468},\n",
       " {'id': 7.0,\n",
       "  'text': '넣어',\n",
       "  'head': -1.0,\n",
       "  'label': 'VP',\n",
       "  'mod': [4.0, 6.0],\n",
       "  'weight': 0.0228731}]"
      ]
     },
     "execution_count": 17,
     "metadata": {},
     "output_type": "execute_result"
    }
   ],
   "source": [
    "의존구문분석"
   ]
  },
  {
   "cell_type": "code",
   "execution_count": 26,
   "metadata": {},
   "outputs": [],
   "source": [
    "temp = {}\n",
    "for i in 의존구문분석:\n",
    "    if i['label'] == 'NP' or i['label'] == 'NP_OBJ':\n",
    "        for j in 의존구문분석:\n",
    "            if i['head'] == j['id']:\n",
    "                temp[i['text']] = j['text']\n",
    "            else:\n",
    "                pass\n",
    "    else:\n",
    "        pass"
   ]
  },
  {
   "cell_type": "code",
   "execution_count": 27,
   "metadata": {},
   "outputs": [
    {
     "data": {
      "text/plain": [
       "{'욕조': '안에', '수세미': '꺼내서', '싱크대': '안에'}"
      ]
     },
     "execution_count": 27,
     "metadata": {},
     "output_type": "execute_result"
    }
   ],
   "source": [
    "temp"
   ]
  },
  {
   "cell_type": "code",
   "execution_count": 28,
   "metadata": {},
   "outputs": [],
   "source": [
    "temp1 = []\n",
    "for i in 형태소:\n",
    "    if i['type'] == 'NNG':\n",
    "        temp1.append(i['text'])\n",
    "    else:\n",
    "        pass"
   ]
  },
  {
   "cell_type": "code",
   "execution_count": 29,
   "metadata": {},
   "outputs": [
    {
     "data": {
      "text/plain": [
       "['욕조', '안', '수세미', '싱크대', '안']"
      ]
     },
     "execution_count": 29,
     "metadata": {},
     "output_type": "execute_result"
    }
   ],
   "source": [
    "temp1"
   ]
  },
  {
   "cell_type": "code",
   "execution_count": 30,
   "metadata": {},
   "outputs": [],
   "source": [
    "verb = []\n",
    "for i in 의존구문분석:\n",
    "    if i['label'] == 'VP':\n",
    "        verb.append(i['text'])\n",
    "    else:\n",
    "        pass"
   ]
  },
  {
   "cell_type": "code",
   "execution_count": 31,
   "metadata": {},
   "outputs": [
    {
     "data": {
      "text/plain": [
       "['꺼내서', '넣어']"
      ]
     },
     "execution_count": 31,
     "metadata": {},
     "output_type": "execute_result"
    }
   ],
   "source": [
    "verb"
   ]
  },
  {
   "cell_type": "code",
   "execution_count": null,
   "metadata": {},
   "outputs": [],
   "source": []
  },
  {
   "cell_type": "code",
   "execution_count": null,
   "metadata": {},
   "outputs": [],
   "source": []
  }
 ],
 "metadata": {
  "kernelspec": {
   "display_name": "Python 3",
   "language": "python",
   "name": "python3"
  },
  "language_info": {
   "codemirror_mode": {
    "name": "ipython",
    "version": 3
   },
   "file_extension": ".py",
   "mimetype": "text/x-python",
   "name": "python",
   "nbconvert_exporter": "python",
   "pygments_lexer": "ipython3",
   "version": "3.7.4"
  }
 },
 "nbformat": 4,
 "nbformat_minor": 2
}
