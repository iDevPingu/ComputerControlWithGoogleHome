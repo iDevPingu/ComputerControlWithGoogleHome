{
 "cells": [
  {
   "cell_type": "code",
   "execution_count": 10,
   "metadata": {},
   "outputs": [],
   "source": [
    "import urllib3\n",
    "import json\n",
    "\n",
    "def 분석기(text):\n",
    "    openApiURL = \"http://aiopen.etri.re.kr:8000/WiseNLU\"\n",
    "    accessKey = \"3314db0e-ee18-4aff-bd16-e85e2a503569\"\n",
    "    analysisCode = \"dparse\"\n",
    "    text = text\n",
    "\n",
    "    requestJson = {\n",
    "        \"access_key\": accessKey,\n",
    "        \"argument\": {\n",
    "            \"text\": text,\n",
    "            \"analysis_code\": analysisCode\n",
    "        }\n",
    "    }\n",
    "\n",
    "    http = urllib3.PoolManager()\n",
    "    response = http.request(\n",
    "        \"POST\",\n",
    "        openApiURL,\n",
    "        headers={\"Content-Type\": \"application/json; charset=UTF-8\"},\n",
    "        body=json.dumps(requestJson)\n",
    "    )\n",
    "    return response\n",
    "# print(\"[responseCode] \" + str(response.status))\n",
    "# print(\"[responBody]\")\n",
    "# print(str(response.data,\"utf-8\"))"
   ]
  },
  {
   "cell_type": "code",
   "execution_count": 11,
   "metadata": {},
   "outputs": [],
   "source": [
    "a = 분석기(\"노란색 상자 안에 빨간 책 서랍에 넣어\")\n"
   ]
  },
  {
   "cell_type": "code",
   "execution_count": 12,
   "metadata": {},
   "outputs": [],
   "source": [
    "a = a.data.decode('utf-8')\n",
    "b = json.loads(a)"
   ]
  },
  {
   "cell_type": "code",
   "execution_count": 13,
   "metadata": {},
   "outputs": [],
   "source": [
    "형태소 = b['return_object']['sentence'][0]['WSD']\n",
    "의존구문분석 = b['return_object']['sentence'][0]['dependency']"
   ]
  },
  {
   "cell_type": "code",
   "execution_count": 14,
   "metadata": {
    "scrolled": true
   },
   "outputs": [
    {
     "data": {
      "text/plain": [
       "[{'id': 0.0,\n",
       "  'text': '노란색',\n",
       "  'head': 1.0,\n",
       "  'label': 'NP',\n",
       "  'mod': [],\n",
       "  'weight': 0.499087},\n",
       " {'id': 1.0,\n",
       "  'text': '상자',\n",
       "  'head': 2.0,\n",
       "  'label': 'NP',\n",
       "  'mod': [0.0],\n",
       "  'weight': 0.73669},\n",
       " {'id': 2.0,\n",
       "  'text': '안에',\n",
       "  'head': 6.0,\n",
       "  'label': 'NP_AJT',\n",
       "  'mod': [1.0],\n",
       "  'weight': 0.753093},\n",
       " {'id': 3.0,\n",
       "  'text': '빨간',\n",
       "  'head': 4.0,\n",
       "  'label': 'VP_MOD',\n",
       "  'mod': [],\n",
       "  'weight': 0.190854},\n",
       " {'id': 4.0,\n",
       "  'text': '책',\n",
       "  'head': 5.0,\n",
       "  'label': 'NP',\n",
       "  'mod': [3.0],\n",
       "  'weight': 0.432688},\n",
       " {'id': 5.0,\n",
       "  'text': '서랍에',\n",
       "  'head': 6.0,\n",
       "  'label': 'NP_AJT',\n",
       "  'mod': [4.0],\n",
       "  'weight': 0.711816},\n",
       " {'id': 6.0,\n",
       "  'text': '넣어',\n",
       "  'head': -1.0,\n",
       "  'label': 'VP',\n",
       "  'mod': [2.0, 5.0],\n",
       "  'weight': 0.01227}]"
      ]
     },
     "execution_count": 14,
     "metadata": {},
     "output_type": "execute_result"
    }
   ],
   "source": [
    "의존구문분석"
   ]
  },
  {
   "cell_type": "code",
   "execution_count": 21,
   "metadata": {},
   "outputs": [],
   "source": [
    "temp = {}\n",
    "for i in 의존구문분석:\n",
    "    if i['label'] == 'NP' or i['label'] == 'NP_OBJ' :\n",
    "        for j in 의존구문분석:\n",
    "            if i['head'] == j['id']:\n",
    "                temp[i['text']] = j['text']\n",
    "            else:\n",
    "                pass\n",
    "    else:\n",
    "        pass"
   ]
  },
  {
   "cell_type": "code",
   "execution_count": 41,
   "metadata": {},
   "outputs": [],
   "source": [
    "temp = {}\n",
    "for i in 의존구문분석:\n",
    "    if i['label'] == 'NP' or i['label'] == 'NP_OBJ' or i['label'] == 'NP_AJT':\n",
    "        temp[i['text']] = []\n",
    "    else:\n",
    "        pass\n",
    "    \n",
    "\n",
    "                "
   ]
  },
  {
   "cell_type": "code",
   "execution_count": 42,
   "metadata": {},
   "outputs": [],
   "source": [
    "for i in 의존구문분석:\n",
    "    if i['label'] == 'NP' or i['label'] == 'NP_OBJ' or i['label'] == 'NP_AJT':\n",
    "        if len(i['mod']) == 0:\n",
    "            pass\n",
    "        else:\n",
    "            for j in i['mod']:\n",
    "                for k in 의존구문분석:\n",
    "                    if i['head'] == k['id']:\n",
    "                        temp[i['text']].append(k['text'])\n",
    "                    else:\n",
    "                        pass\n",
    "                    if j == k['id']:\n",
    "                        temp[i['text']].append(k['text'])\n",
    "                    else:\n",
    "                        pass\n",
    "    else:\n",
    "        pass"
   ]
  },
  {
   "cell_type": "code",
   "execution_count": 43,
   "metadata": {},
   "outputs": [
    {
     "data": {
      "text/plain": [
       "{'노란색': [],\n",
       " '상자': ['노란색', '안에'],\n",
       " '안에': ['상자', '넣어'],\n",
       " '책': ['빨간', '서랍에'],\n",
       " '서랍에': ['책', '넣어']}"
      ]
     },
     "execution_count": 43,
     "metadata": {},
     "output_type": "execute_result"
    }
   ],
   "source": [
    "temp"
   ]
  },
  {
   "cell_type": "code",
   "execution_count": 17,
   "metadata": {},
   "outputs": [],
   "source": [
    "temp1 = []\n",
    "for i in 형태소:\n",
    "    if i['type'] == 'NNG':\n",
    "        temp1.append(i['text'])\n",
    "    else:\n",
    "        pass"
   ]
  },
  {
   "cell_type": "code",
   "execution_count": 18,
   "metadata": {},
   "outputs": [
    {
     "data": {
      "text/plain": [
       "['노란색', '상자', '안', '책', '서랍']"
      ]
     },
     "execution_count": 18,
     "metadata": {},
     "output_type": "execute_result"
    }
   ],
   "source": [
    "temp1"
   ]
  },
  {
   "cell_type": "code",
   "execution_count": 19,
   "metadata": {},
   "outputs": [],
   "source": [
    "verb = []\n",
    "for i in 의존구문분석:\n",
    "    if i['label'] == 'VP':\n",
    "        verb.append(i['text'])\n",
    "    else:\n",
    "        pass"
   ]
  },
  {
   "cell_type": "code",
   "execution_count": 20,
   "metadata": {},
   "outputs": [
    {
     "data": {
      "text/plain": [
       "['넣어']"
      ]
     },
     "execution_count": 20,
     "metadata": {},
     "output_type": "execute_result"
    }
   ],
   "source": [
    "verb"
   ]
  },
  {
   "cell_type": "code",
   "execution_count": null,
   "metadata": {},
   "outputs": [],
   "source": []
  },
  {
   "cell_type": "code",
   "execution_count": null,
   "metadata": {},
   "outputs": [],
   "source": []
  }
 ],
 "metadata": {
  "kernelspec": {
   "display_name": "Python 3",
   "language": "python",
   "name": "python3"
  }
 },
 "nbformat": 4,
 "nbformat_minor": 2
}
