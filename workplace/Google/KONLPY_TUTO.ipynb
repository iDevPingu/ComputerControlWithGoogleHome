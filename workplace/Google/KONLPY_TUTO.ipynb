{
 "cells": [
  {
   "cell_type": "code",
   "execution_count": 21,
   "metadata": {},
   "outputs": [],
   "source": [
    "from konlpy.tag import Kkma\n",
    "from konlpy.utils import pprint\n",
    "kkma = Kkma()"
   ]
  },
  {
   "cell_type": "code",
   "execution_count": 2,
   "metadata": {},
   "outputs": [
    {
     "name": "stdout",
     "output_type": "stream",
     "text": [
      "['테이블 위에 있는 빨간색 공 욕조로 옮겨 줘']\n"
     ]
    }
   ],
   "source": [
    "pprint(kkma.sentences(u'테이블위에있는 빨간색 공 욕조로 옮겨줘'))"
   ]
  },
  {
   "cell_type": "code",
   "execution_count": 3,
   "metadata": {},
   "outputs": [
    {
     "name": "stdout",
     "output_type": "stream",
     "text": [
      "[('테이블', 'NNG'),\n",
      " ('위', 'NNG'),\n",
      " ('에', 'JKM'),\n",
      " ('있', 'VV'),\n",
      " ('는', 'ETD'),\n",
      " ('빨간색', 'NNG'),\n",
      " ('공', 'NNG'),\n",
      " ('욕조', 'NNG'),\n",
      " ('로', 'JKM'),\n",
      " ('옮기', 'VV'),\n",
      " ('어', 'ECS'),\n",
      " ('주', 'VXV'),\n",
      " ('어', 'ECS')]\n"
     ]
    }
   ],
   "source": [
    "pprint(kkma.pos(u'테이블위에있는 빨간색 공 욕조로 옮겨줘'))"
   ]
  },
  {
   "cell_type": "code",
   "execution_count": 24,
   "metadata": {},
   "outputs": [],
   "source": [
    "import pprint, konlpy"
   ]
  },
  {
   "cell_type": "code",
   "execution_count": 29,
   "metadata": {},
   "outputs": [],
   "source": [
    "a = konlpy.utils.read_json(\"simplejson.json\",encoding=u'utf-8')"
   ]
  },
  {
   "cell_type": "code",
   "execution_count": 26,
   "metadata": {},
   "outputs": [],
   "source": [
    "a = a['text']"
   ]
  },
  {
   "cell_type": "code",
   "execution_count": 30,
   "metadata": {},
   "outputs": [
    {
     "name": "stdout",
     "output_type": "stream",
     "text": [
      "[('안녕', 'NNG'),\n",
      " ('하', 'XSV'),\n",
      " ('세요', 'EFN'),\n",
      " ('저', 'NP'),\n",
      " ('는', 'JX'),\n",
      " ('차세대', 'NNG'),\n",
      " ('융합', 'NNG'),\n",
      " ('기술', 'NNG'),\n",
      " ('연구원', 'NNG'),\n",
      " ('에서', 'JKM'),\n",
      " ('인턴', 'NNG'),\n",
      " ('을', 'JKO'),\n",
      " ('수행', 'NNG'),\n",
      " ('하', 'XSV'),\n",
      " ('고', 'ECE'),\n",
      " ('있', 'VXV'),\n",
      " ('는', 'ETD'),\n",
      " ('황재익', 'UN'),\n",
      " ('이라고', 'JX'),\n",
      " ('하', 'VV'),\n",
      " ('ㅂ니다', 'EFN'),\n",
      " ('.', 'SF'),\n",
      " ('만나', 'VV'),\n",
      " ('서', 'ECD'),\n",
      " ('반갑', 'VA'),\n",
      " ('습니다', 'EFN'),\n",
      " ('.', 'SF')]\n"
     ]
    }
   ],
   "source": [
    "konlpy.utils.pprint(kkma.pos(a['text']))"
   ]
  },
  {
   "cell_type": "code",
   "execution_count": 23,
   "metadata": {},
   "outputs": [
    {
     "data": {
      "text/plain": [
       "'안녕하세요 저는 차세대융합기술연구원에서 인턴을 수행하고 있는 황재익이라고 합니다. 만나서 반갑습니다.'"
      ]
     },
     "execution_count": 23,
     "metadata": {},
     "output_type": "execute_result"
    }
   ],
   "source": [
    "a['text']"
   ]
  },
  {
   "cell_type": "code",
   "execution_count": null,
   "metadata": {},
   "outputs": [],
   "source": []
  }
 ],
 "metadata": {
  "kernelspec": {
   "display_name": "Python 3",
   "language": "python",
   "name": "python3"
  },
  "language_info": {
   "codemirror_mode": {
    "name": "ipython",
    "version": 3
   },
   "file_extension": ".py",
   "mimetype": "text/x-python",
   "name": "python",
   "nbconvert_exporter": "python",
   "pygments_lexer": "ipython3",
   "version": "3.7.4"
  }
 },
 "nbformat": 4,
 "nbformat_minor": 2
}
