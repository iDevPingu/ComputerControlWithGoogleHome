{
 "cells": [
  {
   "cell_type": "markdown",
   "metadata": {},
   "source": [
    "# requests 라이브러리\n",
    "\n",
    "#### request.post(url, data = 보낼데이터, headers)\n",
    "#### request.get(url,params = 보낼데이터,headers)"
   ]
  },
  {
   "cell_type": "code",
   "execution_count": 64,
   "metadata": {},
   "outputs": [],
   "source": [
    "from flask import Flask,request,jsonify\n",
    "import sys\n",
    "import requests\n",
    "import json\n",
    "import urllib.request\n",
    "\n",
    "#STT, TTS 모두 HTTP 기반 REST API\n",
    "def NaverSTT_API(filename):\n",
    "    client_id = \"6o5vqlnxzu\"\n",
    "    client_secret = \"dkpdUZCoI1suTDn3e5HeOp0Dh5SMdWQm9r7R0zXz\"\n",
    "    url = \"https://naveropenapi.apigw.ntruss.com/recog/v1/stt?lang=\"+\"Kor\"\n",
    "    data = open(\"{}\".format(filename),'rb')\n",
    "\n",
    "    headers = {\"X-NCP-APIGW-API-KEY-ID\" : client_id,\n",
    "                \"X-NCP-APIGW-API-KEY\" : client_secret,\n",
    "                \"Content-Type\" : \"application/octet-stream\"}\n",
    "\n",
    "    response = requests.post(url, data=data ,  headers = headers)\n",
    "    rescode = response.status_code\n",
    "    if(rescode == 200):\n",
    "        print (response.text)\n",
    "    else:\n",
    "        print(\"Error : \" + response.text)\n",
    "    \n",
    "\n",
    "def NaverTTS_API():\n",
    "    client_id = \"6o5vqlnxzu\"\n",
    "    client_secret = \"dkpdUZCoI1suTDn3e5HeOp0Dh5SMdWQm9r7R0zXz\"\n",
    "    url = \"https://naveropenapi.apigw.ntruss.com/voice/v1/tts\"\n",
    "    encText = urllib.parse.quote(\"반갑습니다 네이버\")\n",
    "    data = \"speaker=mijin&speed=0&text=\" + encText\n",
    "    \n",
    "    request = urllib.request.Request(url)\n",
    "    request.add_header(\"X-NCP-APIGW-API-KEY-ID\",client_id)\n",
    "    request.add_header(\"X-NCP-APIGW-API-KEY\",client_secret)\n",
    "    response = urllib.request.urlopen(request, data=data.encode('utf-8'))\n",
    "\n",
    "    rescode = response.getcode()\n",
    "    \n",
    "    if(rescode==200):\n",
    "        print(\"TTS mp3 저장\")\n",
    "        response_body = response.read()\n",
    "        with open('1111.mp3', 'wb') as f:\n",
    "            f.write(response_body)\n",
    "        NaverSTT_API('1111.mp3')\n",
    "    else:\n",
    "        print(\"Error Code:\" + rescode)\n",
    "        \n"
   ]
  },
  {
   "cell_type": "code",
   "execution_count": 65,
   "metadata": {},
   "outputs": [
    {
     "name": "stdout",
     "output_type": "stream",
     "text": [
      "TTS mp3 저장\n",
      "{\"text\":\"반갑습니다 네이버\"}\n"
     ]
    }
   ],
   "source": [
    "NaverTTS_API()"
   ]
  },
  {
   "cell_type": "markdown",
   "metadata": {},
   "source": [
    "# GOOGLE"
   ]
  },
  {
   "cell_type": "code",
   "execution_count": 3,
   "metadata": {},
   "outputs": [
    {
     "name": "stdout",
     "output_type": "stream",
     "text": [
      " * Serving Flask app \"__main__\" (lazy loading)\n",
      " * Environment: production\n",
      "   WARNING: This is a development server. Do not use it in a production deployment.\n",
      "   Use a production WSGI server instead.\n",
      " * Debug mode: off\n"
     ]
    },
    {
     "name": "stderr",
     "output_type": "stream",
     "text": [
      " * Running on http://127.0.0.1:5000/ (Press CTRL+C to quit)\n",
      "127.0.0.1 - - [04/Dec/2019 09:46:42] \"\u001b[37mGET / HTTP/1.1\u001b[0m\" 200 -\n",
      "127.0.0.1 - - [04/Dec/2019 09:46:42] \"\u001b[33mGET /favicon.ico HTTP/1.1\u001b[0m\" 404 -\n",
      "127.0.0.1 - - [04/Dec/2019 09:46:50] \"\u001b[1m\u001b[31mGET /webhook HTTP/1.1\u001b[0m\" 400 -\n"
     ]
    }
   ],
   "source": [
    "# import flask dependencies\n",
    "from flask import Flask, request, make_response, jsonify\n",
    "\n",
    "# initialize the flask app\n",
    "app = Flask(__name__)\n",
    "\n",
    "# default route\n",
    "@app.route('/')\n",
    "def index():\n",
    "    return 'Hello World!'\n",
    "\n",
    "# function for responses\n",
    "def results():\n",
    "    # build a request object\n",
    "    req = request.get_json(force=True)\n",
    "\n",
    "    # fetch action from json\n",
    "    action = req.get('queryResult').get('action')\n",
    "\n",
    "    # return a fulfillment response\n",
    "    return {'fulfillmentText': 'This is a response from webhook.'}\n",
    "\n",
    "# create a route for webhook\n",
    "@app.route('/webhook', methods=['GET', 'POST'])\n",
    "def webhook():\n",
    "    # return response\n",
    "    return make_response(jsonify(results()))\n",
    "\n",
    "# run the app\n",
    "if __name__ == '__main__':\n",
    "   app.run()"
   ]
  },
  {
   "cell_type": "markdown",
   "metadata": {},
   "source": [
    "# Python OS Order"
   ]
  },
  {
   "cell_type": "code",
   "execution_count": 4,
   "metadata": {},
   "outputs": [],
   "source": [
    "import os"
   ]
  },
  {
   "cell_type": "code",
   "execution_count": 8,
   "metadata": {},
   "outputs": [],
   "source": [
    "os.mkdir(\"./test/a\")"
   ]
  },
  {
   "cell_type": "code",
   "execution_count": 9,
   "metadata": {},
   "outputs": [],
   "source": [
    "os.mkdir(\"./test/b\")"
   ]
  },
  {
   "cell_type": "markdown",
   "metadata": {},
   "source": [
    "### a 폴더에 있는 abc.txt 파일을 b 폴더로 옮겨보자"
   ]
  },
  {
   "cell_type": "code",
   "execution_count": 34,
   "metadata": {},
   "outputs": [
    {
     "name": "stdout",
     "output_type": "stream",
     "text": [
      "C:\\Users\\userew\\Desktop\\workplace\n"
     ]
    }
   ],
   "source": [
    "# 현재 디렉터리 확인\n",
    "print (os.getcwd())"
   ]
  },
  {
   "cell_type": "code",
   "execution_count": 36,
   "metadata": {},
   "outputs": [],
   "source": [
    "import shutil"
   ]
  },
  {
   "cell_type": "code",
   "execution_count": 37,
   "metadata": {},
   "outputs": [
    {
     "data": {
      "text/plain": [
       "'./test/b\\\\abc.txt'"
      ]
     },
     "execution_count": 37,
     "metadata": {},
     "output_type": "execute_result"
    }
   ],
   "source": [
    "shutil.move('./test/a/abc.txt','./test/b')"
   ]
  },
  {
   "cell_type": "code",
   "execution_count": null,
   "metadata": {},
   "outputs": [],
   "source": []
  }
 ],
 "metadata": {
  "kernelspec": {
   "display_name": "Python 3",
   "language": "python",
   "name": "python3"
  },
  "language_info": {
   "codemirror_mode": {
    "name": "ipython",
    "version": 3
   },
   "file_extension": ".py",
   "mimetype": "text/x-python",
   "name": "python",
   "nbconvert_exporter": "python",
   "pygments_lexer": "ipython3",
   "version": "3.6.9"
  }
 },
 "nbformat": 4,
 "nbformat_minor": 2
}
